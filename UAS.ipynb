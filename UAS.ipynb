{
 "cells": [
  {
   "cell_type": "code",
   "execution_count": 2,
   "metadata": {},
   "outputs": [
    {
     "name": "stdout",
     "output_type": "stream",
     "text": [
      "[['buat', 'gantung', 'niat', 'balas', 'tiaptiap', 'gantung', 'niat'], ['habis', 'waktu', 'sia', 'sia'], ['buat', 'kemasiatan'], ['cerai', 'beranta', 'lemah'], ['tidur', 'hadap', 'kanan'], ['heraqlius', 'kepada', 'tambah', 'kurang', 'tambah', 'iman', 'kembang', 'sempurna', 'kepada', 'murtad', 'dongkol', 'agama', 'iman', 'tumbuh', 'semi', 'hati', 'dongkol'], ['halal', 'haram', 'perkara', 'syubhat', 'samar', 'barangsiapa', 'jauh', 'syubhat', 'pelihara', 'agama', 'hormat', 'barangsiapa', 'jatuh', 'perkaraperkara', 'syubhat', 'sungguh', 'gembala', 'gembala', 'ternak', 'pinggir', 'jurang', 'khawatir', 'jatuh', 'dalam', 'tahu', 'raja', 'milik', 'batas', 'tahu', 'batas', 'larang', 'allah', 'bumi', 'apaapa', 'haram', 'tahu', 'tubuh', 'gumpal', 'darah', 'tubuh', 'rusak', 'rusak', 'tubuh', 'tahu', 'hati'], ['perintah', 'larang', 'perintah', 'iman', 'allah', 'satusatunya', 'tahu', 'iman', 'allah', 'satusatunya', 'allah', 'rasul', 'nabi', 'saksi', 'ilah', 'kecuali', 'allah', 'muhammad', 'utus', 'allah', 'tegak', 'shalat', 'tunai', 'zakat', 'puasa', 'ramadlan', 'keluar', 'lima', 'harta', 'rampas', 'perang', 'nabi', 'larang', 'perkara', 'minum', 'al', 'hantam', 'ad', 'dubbaa', 'an', 'naqir', 'al', 'muzaffaat', 'beliau', 'sebut', 'muqoyyir', 'naqir', 'nabi', 'sabda', 'jaga', 'beritahukanlah', 'orangorang', 'kampung'], ['buat', 'gantung', 'niat', 'balas', 'tiaptiap', 'gantung', 'niat', 'barangsiapa', 'niat', 'hijrah', 'allah', 'rasul', 'hijrah', 'allah', 'rasul', 'barangsiapa', 'niat', 'hijrah', 'dunia', 'gapai', 'perempuan', 'nikah', 'hijrah', 'niat'], ['nafkah', 'keluarga', 'niat', 'harap', 'pahala', 'bagi', 'sedekah'], ['nafkah', 'nafkah', 'harap', 'wajah', 'allah', 'kecuali', 'pahala', 'suap', 'mulut', 'istri'], ['baiat', 'rasulullah', 'tegak', 'shalat', 'tunai', 'zakat', 'nasehat', 'muslim'], ['nasehat', 'muslim', 'baiat', 'beliau', 'perkara', 'milik', 'masjid', 'sungguh', 'nasihat', 'beristighfar', 'turun', 'mimbar'], ['hilang', 'amanah', 'tunggu', 'kiamat', 'hilang', 'amanat', 'nabi', 'urus', 'serah', 'ahli', 'tunggu', 'kiamat'], ['celaka', 'tumittumit', 'basah', 'neraka', 'beliau', 'seru'], ['sungguh', 'pohon', 'pohon', 'jatuh', 'daun', 'umpama', 'muslim', 'nabi', 'kepada', 'pohon', 'sahabat', 'anggap', 'pohon', 'lembah', 'abdullah', 'pikir', 'hati', 'pohon', 'pohon', 'kurma', 'malu', 'ungkap', 'sahabat', 'rasulullah', 'pohon', 'beliau', 'pohon', 'kurma'], ['sungguh', 'pohon', 'pohon', 'jatuh', 'daun', 'umpama', 'muslim', 'nabi', 'pada', 'pohon', 'sahabat', 'anggap', 'pohon', 'lembah', 'abdullah', 'pikir', 'hati', 'pohon', 'pohon', 'kurma', 'malu', 'ungkap', 'orangorang', 'rasulullah', 'pohon', 'beliau', 'pohon', 'kurma'], ['kulit', 'putih', 'sandar', 'beliau', 'putra', 'abdul', 'muththalib', 'nabi', 'jawab', 'nabi', 'kepada', 'berat', 'buat', 'rasa', 'hadap', 'nabi', 'tanya', 'soal', 'kepada', 'rabbmu', 'rabb', 'orangorang', 'belum', 'allah', 'utus', 'manusia', 'nabi', 'allah', 'sumpah', 'kepada', 'nama', 'allah', 'allah', 'perintah', 'shalat', 'waktu', 'hari', 'malam', 'nabi', 'allah', 'sumpah', 'kepada', 'nama', 'allah', 'allah', 'perintah', 'puasa', 'tahun', 'nabi', 'allah', 'sumpah', 'kepada', 'nama', 'allah', 'allah', 'perintah', 'ambil', 'sedekah', 'orangorang', 'kaya', 'bagi', 'orangorang', 'fakir', 'nabi', 'allah', 'iman', 'engkau', 'bawa', 'utus', 'kaum', 'dlamam', 'bin', 'tsalabah', 'saudara', 'bani', 'sad', 'bin', 'bakr', 'kisah', 'riwayat', 'musa', 'bin', 'ismail', 'ali', 'bin', 'abdul', 'hamid', 'sulaiman', 'bin', 'al', 'mughirah', 'tsabit', 'anas', 'nabi'], ['utus', 'bawa', 'surat', 'perintah', 'surat', 'pimpin', 'bahrain', 'pimpin', 'bahrain', 'beri', 'kisra', 'tatkala', 'baca', 'surat', 'robek', 'ibnu', 'musayyab', 'rasulullah', 'doa', 'kuasa', 'dirobekrobek', 'sehancurhancurnya'], ['stempel', 'buat', 'perak', 'tanda', 'muhammad', 'rasulullah', 'seakanakan', 'warna', 'putih', 'tangan', 'beliau', 'qotadah', 'tanda', 'muhammad', 'rasulullah', 'anas'], ['mau', 'beritahu', 'tiga', 'lindung', 'allah', 'allah', 'lindung', 'malu', 'allah', 'allah', 'malu', 'tiga', 'paling', 'allah', 'allah', 'paling', 'dari'], ['darah', 'harta', 'hormat', 'haram', 'suci', 'suci', 'tanah', 'hadir', 'hadir', 'hadir', 'moga', 'paham', 'dari'], ['ingat', 'ajar', 'harihari', 'sulit', 'hadap'], ['mudah', 'sulit', 'ilah', 'kabar', 'gembira', 'lari'], ['ajar', 'nabi', 'ajar', 'khawatir', 'bosan', 'timpa'], ['barangsiapa', 'allah', 'hendak', 'allah', 'faqihkan', 'agama', 'membagibagikan', 'allah', 'senantiasa', 'ummat', 'tegak', 'atas', 'perintah', 'allah', 'celaka', 'orangorang', 'selisih', 'putus', 'allah'], ['sungguh', 'pohon', 'pohon', 'umpama', 'muslim', 'pohon', 'kurma', 'muda', 'diam', 'nabi', 'sabda', 'pohon', 'kurma'], ['dengki', 'kecuali', 'allah', 'harta', 'guna', 'harta', 'jalan', 'benar', 'allah', 'hikmah', 'amal', 'ajar'], ['musa', 'tengah', 'besar', 'bani', 'israil', 'pandai', 'dari', 'musa', 'alaihis', 'allah', 'taala', 'wahyu', 'musa', 'alaihis', 'hamba', 'nama', 'hidlir', 'musa', 'alaihis', 'jalan', 'temu', 'dengan', 'allah', 'jadi', 'ikan', 'musa', 'tanda', 'hilang', 'ikan', 'kembali', 'jumpa', 'dengan', 'musa', 'alaihis', 'ikut', 'jejak', 'ikan', 'laut', 'kata', 'murid', 'musa', 'alaihis', 'tahu', 'tatkala', 'cari', 'lindung', 'batu', 'sungguh', 'lupa', 'cerita', 'ikan', 'lupa', 'cerita', 'kecuali', 'setan', 'musa', 'alaihis', 'berkataitulah', 'cari', 'ikut', 'jejak', 'temu', 'hidlir', 'alaihis', 'kisah', 'allah', 'cerita', 'kitab'], ['allah', 'ajar', 'kitab'], ['rasulullah', 'shalat', 'mina', 'hadap', 'dinding', 'shaf', 'lepas', 'keledai', 'betina', 'cari', 'makan', 'suka', 'tengah', 'shaf', 'salah'], ['nabi', 'beliau', 'lumur', 'air', 'ludah', 'beliau', 'wajah', 'umur', 'tahun'], ['musa', 'tengah', 'besar', 'bani', 'israil', 'pandai', 'dari', 'musa', 'alaihis', 'allah', 'taala', 'wahyu', 'musa', 'alaihis', 'hamba', 'nama', 'hidlir', 'musa', 'alaihis', 'jalan', 'temu', 'dengan', 'allah', 'jadi', 'ikan', 'musa', 'tanda', 'hilang', 'ikan', 'kembali', 'jumpa', 'dengan', 'musa', 'alaihis', 'ikut', 'jejak', 'ikan', 'laut', 'kata', 'murid', 'musa', 'alaihis', 'tahu', 'tatkala', 'cari', 'lindung', 'batu', 'sungguh', 'lupa', 'cerita', 'ikan', 'lupa', 'cerita', 'kecuali', 'setan', 'musa', 'alaihis', 'berkataitulah', 'cari', 'ikut', 'jejak', 'temu', 'hidlir', 'alaihis', 'kisah', 'allah', 'cerita', 'kitab'], ['umpama', 'tunjuk', 'ilmu', 'allah', 'utus', 'bawa', 'hujan', 'lebat', 'turun', 'tanah', 'tanah', 'jenis', 'serap', 'air', 'tumbuh', 'tumbuhtumbuhan', 'rumput', 'tanah', 'keras', 'tahan', 'air', 'genang', 'minum', 'manusia', 'minum', 'hewan', 'ternak', 'siram', 'tanam', 'muka', 'tanah', 'bentuk', 'lembah', 'tahan', 'air', 'tumbuh', 'tanam', 'umpama', 'faham', 'agama', 'allah', 'manfaat', 'utus', 'dengan', 'ajar', 'ajar', 'umpama', 'angkat', 'derajat', 'terima', 'hidayah', 'allah', 'utus', 'dengan', 'abu', 'abdullah', 'ishaq', 'jenis', 'tanah', 'bentuk', 'lembah', 'tampung', 'air', 'penuh', 'padang', 'sahara', 'datar'], ['tandatanda', 'kiamat', 'angkat', 'ilmu', 'rebak', 'bodoh', 'minum', 'khamer', 'praktek', 'perzinahan', 'terangterangan'], ['tandatanda', 'kiamat', 'ilmu', 'rebak', 'bodoh', 'perzinahan', 'terangterangan', 'perempuan', 'lakilaki', 'sampaisampai', 'banding', 'puluh', 'perempuan', 'lakilaki'], ['tidur', 'mimpi', 'gelas', 'susu', 'minum', 'pandang', 'bagus', 'kuku', 'sisa', 'sahabat', 'mulia', 'umar', 'bin', 'al', 'khaththab', 'orangorang', 'tawilnya', 'rasulullah', 'beliau', 'ilmu'], ['sembelih', 'apaapa', 'sadar', 'kurban', 'lempar', 'jumrah', 'nabi', 'sabda', 'lempar', 'apaapa', 'nabi', 'perkara', 'kecuali', 'beliau', 'laku', 'apaapa'], ['apaapadan', 'cukur', 'sembelih', 'beliau', 'isyarat', 'tangan', 'maksud', 'apaapa'], ['ilmu', 'angkat', 'sebar', 'bodoh', 'fitnah', 'rajalela', 'timbul', 'kacau', 'beliau', 'rasulullah', 'kacau', 'rasul', 'nabi', 'isyarat', 'tangan', 'miring', 'akan', 'bunuh'], ['wahyu', 'kepada', 'kena', 'fitnah', 'kubur', 'fitnah', 'asma', 'fitnah', 'al', 'masihud', 'dajjal', 'dalam', 'kubur', 'tahu', 'lakilaki', 'iman', 'asma', 'muhammad', 'rasulullah', 'bawa', 'jelas', 'tunjuk', 'sambut', 'ikut', 'muhammad', 'tidur', 'tenang', 'sungguh', 'munafiq', 'ragu', 'asma', 'dengar', 'manusia', 'bicara', 'aku'], ['perintah', 'larang', 'perintah', 'iman', 'allah', 'satusatunya', 'beliau', 'tahu', 'iman', 'allah', 'satusatunya', 'allah', 'rasul', 'nabi', 'saksi', 'ilah', 'hak', 'sembah', 'kecuali', 'allah', 'muhammad', 'utus', 'allah', 'tegak', 'shalat', 'tunai', 'zakat', 'puasa', 'ramadlan', 'keluar', 'lima', 'harta', 'rampas', 'perang', 'nabi', 'larang', 'perkara', 'minum', 'al', 'hantam', 'ad', 'dubbaa', 'al', 'muzaffaat', 'syubah', 'terang', 'terkadang', 'beliau', 'an', 'naqir', 'terkadang', 'muqoyyir', 'naqir', 'nabi', 'sabda', 'jaga', 'beritahukanlah', 'orangorang', 'kampung'], ['uqbah', 'cerai', 'meni', 'wanita'], ['manusia', 'lari', 'jauh', 'barangsiapa', 'shalat', 'imam', 'orangorang', 'ringan', 'sakit', 'lemah', 'perlu'], ['kenal', 'tali', 'ikat', 'beliau', 'kantong', 'tutup', 'umum', 'tahun', 'guna', 'milik', 'beri', 'temu', 'unta', 'nabi', 'marah', 'nampak', 'merah', 'muka', 'urus', 'unta', 'bawa', 'air', 'perut', 'sepatu', 'hilir', 'mudik', 'cari', 'minum', 'makan', 'rumput', 'biar', 'milik', 'ambil', 'temu', 'kambing', 'beliau', 'saudara', 'serigala'], ['tanya', 'kepada', 'suka', 'bapak', 'beliau', 'bapak', 'hudzafah', 'bapak', 'rasulullah', 'bapak', 'salim', 'sahaya', 'syaibah', 'umar', 'wajah', 'beliau', 'rasulullah', 'taubat', 'allah', 'azza', 'wajalla'], ['bapak', 'hudzaafah', 'nabi', 'sabda', 'tanya', 'kepada', 'umar', 'turun', 'lutut', 'seraya', 'ridla', 'allah', 'rabb', 'islam', 'agama', 'muhammad', 'shallallahu', 'alaihi', 'wa', 'nabi', 'abdullah', 'bin', 'hudzafah', 'diam'], ['bicara', 'kalimat', 'ulang'], ['bicara', 'ulang', 'paham', 'kaum', 'beliau'], ['celaka', 'tumittumit', 'basah', 'neraka', 'seru']]\n"
     ]
    }
   ],
   "source": [
    "import function as fc\n",
    "from xlrd import open_workbook\n",
    "wb = open_workbook('book1.xlsx')\n",
    "data, items = fc.openFile(wb)\n",
    "datatest = []\n",
    "for j in data :\n",
    "    datatest.append(j)\n",
    "datatest = fc.prepro(datatest)\n",
    "print(datatest)"
   ]
  },
  {
   "cell_type": "code",
   "execution_count": null,
   "metadata": {},
   "outputs": [],
   "source": []
  }
 ],
 "metadata": {
  "kernelspec": {
   "display_name": "Python 3",
   "language": "python",
   "name": "python3"
  },
  "language_info": {
   "codemirror_mode": {
    "name": "ipython",
    "version": 3
   },
   "file_extension": ".py",
   "mimetype": "text/x-python",
   "name": "python",
   "nbconvert_exporter": "python",
   "pygments_lexer": "ipython3",
   "version": "3.8.3"
  }
 },
 "nbformat": 4,
 "nbformat_minor": 4
}
